{
 "cells": [
  {
   "cell_type": "code",
   "execution_count": 3,
   "id": "b239f2d7",
   "metadata": {},
   "outputs": [
    {
     "data": {
      "text/plain": [
       "'weather_app_architecture.png'"
      ]
     },
     "execution_count": 3,
     "metadata": {},
     "output_type": "execute_result"
    }
   ],
   "source": [
    "from graphviz import Digraph\n",
    "\n",
    "# Create diagram\n",
    "dot = Digraph(\"WeatherApp\", format=\"png\")\n",
    "dot.attr(rankdir=\"LR\", size=\"10\")\n",
    "\n",
    "# Sensors\n",
    "dot.node(\"sensors\", \"IoT Sensors\\n(temp, lat, lng)\", shape=\"box\", style=\"filled\", fillcolor=\"lightgrey\")\n",
    "\n",
    "# Ingestion Layer\n",
    "dot.node(\"api\", \"API Gateway\\n(Validation, Auth)\", shape=\"box\", style=\"filled\", fillcolor=\"lightblue\")\n",
    "dot.node(\"lambda\", \"Lambda\\n(Pre-process events)\", shape=\"box\", style=\"filled\", fillcolor=\"lightblue\")\n",
    "\n",
    "# Message Broker\n",
    "dot.node(\"kinesis\", \"Kafka / Kinesis / Event Hubs\\n(Partition: sensor_id)\", shape=\"cylinder\", style=\"filled\", fillcolor=\"lightyellow\")\n",
    "\n",
    "# Stream Processing\n",
    "dot.node(\"flink\", \"Flink / Dataflow\\n(Stream Processing,\\nAggregations)\", shape=\"box\", style=\"filled\", fillcolor=\"lightgreen\")\n",
    "\n",
    "# Database\n",
    "dot.node(\"db\", \"Time-series DB\\n(AWS Timestream / TimescaleDB)\\n+ OpenSearch (geo queries)\", shape=\"cylinder\", style=\"filled\", fillcolor=\"orange\")\n",
    "\n",
    "# Batch Processing\n",
    "dot.node(\"spark\", \"Spark on EMR / Dataproc\\n(Batch Jobs, MapReduce)\", shape=\"box\", style=\"filled\", fillcolor=\"lightpink\")\n",
    "\n",
    "# Storage\n",
    "dot.node(\"s3\", \"S3 / Blob Storage\\n(Cache images & results)\", shape=\"cylinder\", style=\"filled\", fillcolor=\"lightyellow\")\n",
    "dot.node(\"cdn\", \"CloudFront / CDN\\n(Global delivery)\", shape=\"box\", style=\"filled\", fillcolor=\"lightblue\")\n",
    "\n",
    "# Mobile App\n",
    "dot.node(\"mobile\", \"Mobile App\\n(User queries, fetch results)\", shape=\"box\", style=\"filled\", fillcolor=\"lightgrey\")\n",
    "\n",
    "# Connections\n",
    "dot.edges([(\"sensors\", \"api\"), (\"api\", \"lambda\"), (\"lambda\", \"kinesis\")])\n",
    "dot.edge(\"kinesis\", \"flink\")\n",
    "dot.edge(\"flink\", \"db\")\n",
    "dot.edge(\"db\", \"spark\")\n",
    "dot.edge(\"spark\", \"s3\")\n",
    "dot.edge(\"s3\", \"cdn\")\n",
    "dot.edge(\"cdn\", \"mobile\")\n",
    "dot.edge(\"db\", \"mobile\", label=\"Query API\")\n",
    "\n",
    "# Save and render\n",
    "file_path = \"weather_app_architecture\"\n",
    "dot.attr(dpi=\"300\")\n",
    "dot.render(file_path)\n",
    "\n",
    "file_path + \".png\""
   ]
  },
  {
   "cell_type": "code",
   "execution_count": null,
   "id": "5498614a",
   "metadata": {},
   "outputs": [],
   "source": []
  }
 ],
 "metadata": {
  "kernelspec": {
   "display_name": ".venv (3.12.2)",
   "language": "python",
   "name": "python3"
  },
  "language_info": {
   "codemirror_mode": {
    "name": "ipython",
    "version": 3
   },
   "file_extension": ".py",
   "mimetype": "text/x-python",
   "name": "python",
   "nbconvert_exporter": "python",
   "pygments_lexer": "ipython3",
   "version": "3.12.2"
  }
 },
 "nbformat": 4,
 "nbformat_minor": 5
}
